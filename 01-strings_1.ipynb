{
  "cells": [
    {
      "cell_type": "markdown",
      "id": "06c205c1",
      "metadata": {
        "id": "06c205c1"
      },
      "source": [
        "# Strings"
      ]
    },
    {
      "cell_type": "markdown",
      "id": "e0d3aa0b",
      "metadata": {
        "id": "e0d3aa0b"
      },
      "source": [
        "### Basics"
      ]
    },
    {
      "cell_type": "code",
      "execution_count": 1,
      "id": "23e42c11",
      "metadata": {
        "colab": {
          "base_uri": "https://localhost:8080/",
          "height": 35
        },
        "id": "23e42c11",
        "outputId": "23581bd5-3aae-46be-d36f-d70e17739b45"
      },
      "outputs": [
        {
          "output_type": "execute_result",
          "data": {
            "text/plain": [
              "'this is a string that is also a sentence'"
            ],
            "application/vnd.google.colaboratory.intrinsic+json": {
              "type": "string"
            }
          },
          "metadata": {},
          "execution_count": 1
        }
      ],
      "source": [
        "\"this is a string that is also a sentence\""
      ]
    },
    {
      "cell_type": "code",
      "execution_count": 34,
      "id": "261d484e",
      "metadata": {
        "colab": {
          "base_uri": "https://localhost:8080/",
          "height": 35
        },
        "id": "261d484e",
        "outputId": "aa548479-6d1e-48df-a9c0-df6815fa2535"
      },
      "outputs": [
        {
          "output_type": "execute_result",
          "data": {
            "text/plain": [
              "'this'"
            ],
            "application/vnd.google.colaboratory.intrinsic+json": {
              "type": "string"
            }
          },
          "metadata": {},
          "execution_count": 34
        }
      ],
      "source": [
        "'this'"
      ]
    },
    {
      "cell_type": "code",
      "execution_count": 35,
      "id": "672389e3",
      "metadata": {
        "colab": {
          "base_uri": "https://localhost:8080/",
          "height": 35
        },
        "id": "672389e3",
        "outputId": "ecdd286c-6e37-47ef-e42b-cb484ebcf7d3"
      },
      "outputs": [
        {
          "output_type": "execute_result",
          "data": {
            "text/plain": [
              "'t'"
            ],
            "application/vnd.google.colaboratory.intrinsic+json": {
              "type": "string"
            }
          },
          "metadata": {},
          "execution_count": 35
        }
      ],
      "source": [
        "'t'"
      ]
    },
    {
      "cell_type": "code",
      "execution_count": 36,
      "id": "0c983215",
      "metadata": {
        "colab": {
          "base_uri": "https://localhost:8080/",
          "height": 35
        },
        "id": "0c983215",
        "outputId": "5d510c60-c425-43ed-ddce-8c6b28679e4f"
      },
      "outputs": [
        {
          "output_type": "execute_result",
          "data": {
            "text/plain": [
              "'598798234792'"
            ],
            "application/vnd.google.colaboratory.intrinsic+json": {
              "type": "string"
            }
          },
          "metadata": {},
          "execution_count": 36
        }
      ],
      "source": [
        "'598798234792'"
      ]
    },
    {
      "cell_type": "code",
      "execution_count": 37,
      "id": "2f51e8fe",
      "metadata": {
        "colab": {
          "base_uri": "https://localhost:8080/",
          "height": 35
        },
        "id": "2f51e8fe",
        "outputId": "3a240125-29de-4daa-c4d7-5d94ebb3ad64"
      },
      "outputs": [
        {
          "output_type": "execute_result",
          "data": {
            "text/plain": [
              "'this is a string too '"
            ],
            "application/vnd.google.colaboratory.intrinsic+json": {
              "type": "string"
            }
          },
          "metadata": {},
          "execution_count": 37
        }
      ],
      "source": [
        "'this is a string too '"
      ]
    },
    {
      "cell_type": "code",
      "execution_count": 38,
      "id": "6ede7d68",
      "metadata": {
        "colab": {
          "base_uri": "https://localhost:8080/",
          "height": 35
        },
        "id": "6ede7d68",
        "outputId": "7ee26594-66df-4941-97f3-9d7b7dea1443"
      },
      "outputs": [
        {
          "output_type": "execute_result",
          "data": {
            "text/plain": [
              "'\\nput \\nthings\\non \\nmultiple \\nlines\\n'"
            ],
            "application/vnd.google.colaboratory.intrinsic+json": {
              "type": "string"
            }
          },
          "metadata": {},
          "execution_count": 38
        }
      ],
      "source": [
        "\"\"\"\n",
        "put\n",
        "things\n",
        "on\n",
        "multiple\n",
        "lines\n",
        "\"\"\""
      ]
    },
    {
      "cell_type": "markdown",
      "id": "4919b581",
      "metadata": {
        "id": "4919b581"
      },
      "source": [
        "### `print`"
      ]
    },
    {
      "cell_type": "code",
      "execution_count": 39,
      "id": "c5dac2b9",
      "metadata": {
        "colab": {
          "base_uri": "https://localhost:8080/",
          "height": 35
        },
        "id": "c5dac2b9",
        "outputId": "6605c34c-0720-4f0d-d11e-6a477f2ae4bd"
      },
      "outputs": [
        {
          "output_type": "execute_result",
          "data": {
            "text/plain": [
              "'string 3'"
            ],
            "application/vnd.google.colaboratory.intrinsic+json": {
              "type": "string"
            }
          },
          "metadata": {},
          "execution_count": 39
        }
      ],
      "source": [
        "'string 1'\n",
        "'string 2'\n",
        "'string 3'"
      ]
    },
    {
      "cell_type": "code",
      "execution_count": 40,
      "id": "2946f0e0",
      "metadata": {
        "colab": {
          "base_uri": "https://localhost:8080/"
        },
        "id": "2946f0e0",
        "outputId": "fc560cd7-18de-4b75-a41c-d4f39a94ff8f"
      },
      "outputs": [
        {
          "output_type": "stream",
          "name": "stdout",
          "text": [
            "string 1\n",
            "string 2\n",
            "string 3\n"
          ]
        }
      ],
      "source": [
        "print('string 1')\n",
        "print('string 2')\n",
        "print('string 3')"
      ]
    },
    {
      "cell_type": "markdown",
      "id": "c0198a7e",
      "metadata": {
        "id": "c0198a7e"
      },
      "source": [
        "### Variables"
      ]
    },
    {
      "cell_type": "code",
      "execution_count": 73,
      "id": "ac4b23cf",
      "metadata": {
        "id": "ac4b23cf"
      },
      "outputs": [],
      "source": [
        "word = \"Microphone\""
      ]
    },
    {
      "cell_type": "code",
      "execution_count": 71,
      "id": "d6620c3a",
      "metadata": {
        "id": "d6620c3a"
      },
      "outputs": [],
      "source": [
        "word = \"Camera\""
      ]
    },
    {
      "cell_type": "code",
      "execution_count": 74,
      "id": "6a4bcd48",
      "metadata": {
        "colab": {
          "base_uri": "https://localhost:8080/",
          "height": 35
        },
        "id": "6a4bcd48",
        "outputId": "a7c560fa-9c5a-4c60-8f43-9fab57bda41f"
      },
      "outputs": [
        {
          "output_type": "execute_result",
          "data": {
            "text/plain": [
              "'Microphone'"
            ],
            "application/vnd.google.colaboratory.intrinsic+json": {
              "type": "string"
            }
          },
          "metadata": {},
          "execution_count": 74
        }
      ],
      "source": [
        "word"
      ]
    },
    {
      "cell_type": "code",
      "execution_count": 68,
      "id": "ddeb51eb",
      "metadata": {
        "id": "ddeb51eb"
      },
      "outputs": [],
      "source": [
        "in_snake_case = \"this is another variable\""
      ]
    },
    {
      "cell_type": "code",
      "execution_count": 67,
      "id": "9bfc010e",
      "metadata": {
        "id": "9bfc010e"
      },
      "outputs": [],
      "source": [
        "camelCase = 'Do as the romans do... so don\\'t write camel case'"
      ]
    },
    {
      "cell_type": "markdown",
      "id": "438e30bf",
      "metadata": {
        "id": "438e30bf"
      },
      "source": [
        "### Interpolation"
      ]
    },
    {
      "cell_type": "code",
      "execution_count": 66,
      "id": "1bccb4a6",
      "metadata": {
        "id": "1bccb4a6"
      },
      "outputs": [],
      "source": [
        "word = \"Microphone\""
      ]
    },
    {
      "cell_type": "code",
      "execution_count": 65,
      "id": "cca00969",
      "metadata": {
        "colab": {
          "base_uri": "https://localhost:8080/",
          "height": 35
        },
        "id": "cca00969",
        "outputId": "aaa6c8ed-0cf5-467f-9398-7914df7bd627"
      },
      "outputs": [
        {
          "output_type": "execute_result",
          "data": {
            "text/plain": [
              "'My word is: Microphone'"
            ],
            "application/vnd.google.colaboratory.intrinsic+json": {
              "type": "string"
            }
          },
          "metadata": {},
          "execution_count": 65
        }
      ],
      "source": [
        "f\"My word is: {word}\""
      ]
    },
    {
      "cell_type": "code",
      "execution_count": 48,
      "id": "adef6d40",
      "metadata": {
        "id": "adef6d40"
      },
      "outputs": [],
      "source": [
        "my_name = \"Max\""
      ]
    },
    {
      "cell_type": "code",
      "execution_count": 49,
      "id": "e8551755",
      "metadata": {
        "colab": {
          "base_uri": "https://localhost:8080/",
          "height": 35
        },
        "id": "e8551755",
        "outputId": "fa4d4cc1-3d68-49b4-fc02-0bf02bfe9792"
      },
      "outputs": [
        {
          "output_type": "execute_result",
          "data": {
            "text/plain": [
              "'Hi my name is Max'"
            ],
            "application/vnd.google.colaboratory.intrinsic+json": {
              "type": "string"
            }
          },
          "metadata": {},
          "execution_count": 49
        }
      ],
      "source": [
        "f\"Hi my name is {my_name}\""
      ]
    },
    {
      "cell_type": "code",
      "execution_count": 50,
      "id": "0a1f7ebb",
      "metadata": {
        "colab": {
          "base_uri": "https://localhost:8080/",
          "height": 35
        },
        "id": "0a1f7ebb",
        "outputId": "083c3a35-3317-4a4d-f12e-329a1bc0d7c1"
      },
      "outputs": [
        {
          "output_type": "execute_result",
          "data": {
            "text/plain": [
              "'Hi, my name is Max, my favourite colour is ⬛️, and I live in 🇨🇦'"
            ],
            "application/vnd.google.colaboratory.intrinsic+json": {
              "type": "string"
            }
          },
          "metadata": {},
          "execution_count": 50
        }
      ],
      "source": [
        "name = \"Max\"\n",
        "colour = \"⬛️\"\n",
        "country = \"🇨🇦\"\n",
        "\n",
        "f\"Hi, my name is {name}, my favourite colour is {colour}, and I live in {country}\""
      ]
    },
    {
      "cell_type": "markdown",
      "id": "5555b83a",
      "metadata": {
        "id": "5555b83a"
      },
      "source": [
        "### Challenge\n",
        "\n",
        "<div class='alert alert-info'>\n",
        "  🎒\n",
        "  Code a \"story\" about your name, age, and favourite TV show\n",
        "</div>\n",
        "<br/>\n",
        "<details>\n",
        "<summary><u>Solution</u></summary>\n",
        "    \n",
        "```python\n",
        "my_name = \"Maggie\"\n",
        "my_age = \"∞\"\n",
        "my_TV = \"The Afterparty\"\n",
        "print(f\"Hi, I'm {my_name}, I'm {my_age} years-old, and I love \\\"{my_TV}\\\".\")\n",
        "```\n",
        "    \n",
        "> Hi, I'm Maggie, I'm ∞ years-old, and I love \"The Afterparty\".\n",
        "    \n",
        "<div class='alert alert-warning'>\n",
        "  ❌✍️ Just don't do this...\n",
        "</div>\n",
        "   \n",
        "```python\n",
        "myName = \"pleaseDont\"\n",
        "myAge = \"thisIsCalledCamelCase\"\n",
        "myTV = \"python_uses_snake_case_99%_of_the_time\"\n",
        "```\n",
        "    \n",
        "</details>"
      ]
    },
    {
      "cell_type": "code",
      "execution_count": 51,
      "id": "c930248a",
      "metadata": {
        "colab": {
          "base_uri": "https://localhost:8080/"
        },
        "id": "c930248a",
        "outputId": "eb7b51ce-fc27-40e3-d3d9-7777f59271dc"
      },
      "outputs": [
        {
          "output_type": "stream",
          "name": "stdout",
          "text": [
            "Hi, I'm Jason, I'm 21 years-old, and I love \"Breaking Bad\".\n"
          ]
        }
      ],
      "source": [
        "my_name = \"Jason\"\n",
        "my_age = \"21\"\n",
        "my_TV = \"Breaking Bad\"\n",
        "print(f\"Hi, I'm {my_name}, I'm {my_age} years-old, and I love \\\"{my_TV}\\\".\")"
      ]
    },
    {
      "cell_type": "markdown",
      "id": "99839e84",
      "metadata": {
        "id": "99839e84"
      },
      "source": [
        "### String Methods"
      ]
    },
    {
      "cell_type": "code",
      "execution_count": 52,
      "id": "e9a9c84a",
      "metadata": {
        "colab": {
          "base_uri": "https://localhost:8080/"
        },
        "id": "e9a9c84a",
        "outputId": "f2e5ca4e-ae44-4ffd-f645-434213f55bae"
      },
      "outputs": [
        {
          "output_type": "execute_result",
          "data": {
            "text/plain": [
              "str"
            ]
          },
          "metadata": {},
          "execution_count": 52
        }
      ],
      "source": [
        "name\n",
        "type(name)"
      ]
    },
    {
      "cell_type": "code",
      "execution_count": 55,
      "id": "afac2c90",
      "metadata": {
        "colab": {
          "base_uri": "https://localhost:8080/"
        },
        "id": "afac2c90",
        "outputId": "760f0717-bbbb-4834-9784-acc306f7a59b"
      },
      "outputs": [
        {
          "output_type": "execute_result",
          "data": {
            "text/plain": [
              "['__add__',\n",
              " '__class__',\n",
              " '__contains__',\n",
              " '__delattr__',\n",
              " '__dir__',\n",
              " '__doc__',\n",
              " '__eq__',\n",
              " '__format__',\n",
              " '__ge__',\n",
              " '__getattribute__',\n",
              " '__getitem__',\n",
              " '__getnewargs__',\n",
              " '__getstate__',\n",
              " '__gt__',\n",
              " '__hash__',\n",
              " '__init__',\n",
              " '__init_subclass__',\n",
              " '__iter__',\n",
              " '__le__',\n",
              " '__len__',\n",
              " '__lt__',\n",
              " '__mod__',\n",
              " '__mul__',\n",
              " '__ne__',\n",
              " '__new__',\n",
              " '__reduce__',\n",
              " '__reduce_ex__',\n",
              " '__repr__',\n",
              " '__rmod__',\n",
              " '__rmul__',\n",
              " '__setattr__',\n",
              " '__sizeof__',\n",
              " '__str__',\n",
              " '__subclasshook__',\n",
              " 'capitalize',\n",
              " 'casefold',\n",
              " 'center',\n",
              " 'count',\n",
              " 'encode',\n",
              " 'endswith',\n",
              " 'expandtabs',\n",
              " 'find',\n",
              " 'format',\n",
              " 'format_map',\n",
              " 'index',\n",
              " 'isalnum',\n",
              " 'isalpha',\n",
              " 'isascii',\n",
              " 'isdecimal',\n",
              " 'isdigit',\n",
              " 'isidentifier',\n",
              " 'islower',\n",
              " 'isnumeric',\n",
              " 'isprintable',\n",
              " 'isspace',\n",
              " 'istitle',\n",
              " 'isupper',\n",
              " 'join',\n",
              " 'ljust',\n",
              " 'lower',\n",
              " 'lstrip',\n",
              " 'maketrans',\n",
              " 'partition',\n",
              " 'removeprefix',\n",
              " 'removesuffix',\n",
              " 'replace',\n",
              " 'rfind',\n",
              " 'rindex',\n",
              " 'rjust',\n",
              " 'rpartition',\n",
              " 'rsplit',\n",
              " 'rstrip',\n",
              " 'split',\n",
              " 'splitlines',\n",
              " 'startswith',\n",
              " 'strip',\n",
              " 'swapcase',\n",
              " 'title',\n",
              " 'translate',\n",
              " 'upper',\n",
              " 'zfill']"
            ]
          },
          "metadata": {},
          "execution_count": 55
        }
      ],
      "source": [
        "dir(name)"
      ]
    },
    {
      "cell_type": "markdown",
      "id": "1b7d13e9",
      "metadata": {
        "id": "1b7d13e9"
      },
      "source": [
        "<div class='alert alert-success'>\n",
        "  🔬🧵 Don't get overwhelmed, just look at a couple\n",
        "</div>"
      ]
    },
    {
      "cell_type": "markdown",
      "id": "d031efdf",
      "metadata": {
        "id": "d031efdf"
      },
      "source": [
        "- `.upper`\n",
        "- `.lower`\n",
        "- `.strip`\n",
        "- `.endswith`\n",
        "- `.startswith`"
      ]
    },
    {
      "cell_type": "code",
      "execution_count": 20,
      "id": "dec098a5",
      "metadata": {
        "colab": {
          "base_uri": "https://localhost:8080/",
          "height": 35
        },
        "id": "dec098a5",
        "outputId": "0ac73df1-2722-405a-a8d4-9c20d0a2f978"
      },
      "outputs": [
        {
          "output_type": "execute_result",
          "data": {
            "text/plain": [
              "'Max Humber'"
            ],
            "application/vnd.google.colaboratory.intrinsic+json": {
              "type": "string"
            }
          },
          "metadata": {},
          "execution_count": 20
        }
      ],
      "source": [
        "full_name = \"max humber\"\n",
        "full_name.title()"
      ]
    },
    {
      "cell_type": "code",
      "execution_count": 19,
      "id": "1a46de84",
      "metadata": {
        "colab": {
          "base_uri": "https://localhost:8080/",
          "height": 35
        },
        "id": "1a46de84",
        "outputId": "1b488901-6e67-40dd-9a6e-f13fca5ce06a"
      },
      "outputs": [
        {
          "output_type": "execute_result",
          "data": {
            "text/plain": [
              "'salkjhk;djhflkawehflksdhflfkjds'"
            ],
            "application/vnd.google.colaboratory.intrinsic+json": {
              "type": "string"
            }
          },
          "metadata": {},
          "execution_count": 19
        }
      ],
      "source": [
        "\"SALKJHK;DJHFLKAWEHFLKSDHFLFKJDS\".lower()"
      ]
    },
    {
      "cell_type": "code",
      "execution_count": 18,
      "id": "c3407dfb",
      "metadata": {
        "colab": {
          "base_uri": "https://localhost:8080/",
          "height": 35
        },
        "id": "c3407dfb",
        "outputId": "81e8b2b5-f81b-46d3-d585-f88216685b0f"
      },
      "outputs": [
        {
          "output_type": "execute_result",
          "data": {
            "text/plain": [
              "\"Lot's of padding.\""
            ],
            "application/vnd.google.colaboratory.intrinsic+json": {
              "type": "string"
            }
          },
          "metadata": {},
          "execution_count": 18
        }
      ],
      "source": [
        "\"       Lot's of padding.       \".strip()"
      ]
    },
    {
      "cell_type": "code",
      "execution_count": 17,
      "id": "8978878e",
      "metadata": {
        "colab": {
          "base_uri": "https://localhost:8080/"
        },
        "id": "8978878e",
        "outputId": "9ca3496f-f494-4cdd-8006-95da20d08e11"
      },
      "outputs": [
        {
          "output_type": "execute_result",
          "data": {
            "text/plain": [
              "False"
            ]
          },
          "metadata": {},
          "execution_count": 17
        }
      ],
      "source": [
        "\"song_243.mp3\".endswith(\".flac\")"
      ]
    },
    {
      "cell_type": "markdown",
      "id": "5767bd7f",
      "metadata": {
        "id": "5767bd7f"
      },
      "source": [
        "### `in`"
      ]
    },
    {
      "cell_type": "code",
      "execution_count": 15,
      "id": "8e0e836b",
      "metadata": {
        "colab": {
          "base_uri": "https://localhost:8080/"
        },
        "id": "8e0e836b",
        "outputId": "15d483e9-f95f-4e11-e515-7c9c6033d774"
      },
      "outputs": [
        {
          "output_type": "execute_result",
          "data": {
            "text/plain": [
              "True"
            ]
          },
          "metadata": {},
          "execution_count": 15
        }
      ],
      "source": [
        "\"good\" in \"good bye\""
      ]
    },
    {
      "cell_type": "code",
      "execution_count": 16,
      "id": "2b9be66a",
      "metadata": {
        "colab": {
          "base_uri": "https://localhost:8080/"
        },
        "id": "2b9be66a",
        "outputId": "884e2692-d7dc-40d1-b6df-a9b15b94b87c"
      },
      "outputs": [
        {
          "output_type": "execute_result",
          "data": {
            "text/plain": [
              "True"
            ]
          },
          "metadata": {},
          "execution_count": 16
        }
      ],
      "source": [
        "\"Good\".lower() in \"good bye\""
      ]
    },
    {
      "cell_type": "markdown",
      "id": "7fc66329",
      "metadata": {
        "id": "7fc66329"
      },
      "source": [
        "### Homework\n",
        "\n",
        "<div class='alert alert-info'>\n",
        "  🎒 Replace all of the punctuation in the following quotes\n",
        "</div>"
      ]
    },
    {
      "cell_type": "code",
      "execution_count": 155,
      "id": "fba54188",
      "metadata": {
        "id": "fba54188"
      },
      "outputs": [],
      "source": [
        "quote_1 = \"Oh I gotta get on that internet, I'm late on everything!\""
      ]
    },
    {
      "cell_type": "code",
      "execution_count": 156,
      "metadata": {
        "id": "38f75559"
      },
      "outputs": [],
      "source": [
        "quote_1 = quote_1.lower().replace(\",\", \".\").replace(\"!\", \".\").replace(\"'\", \"`\")"
      ],
      "id": "38f75559"
    },
    {
      "cell_type": "code",
      "source": [
        "quote_1"
      ],
      "metadata": {
        "colab": {
          "base_uri": "https://localhost:8080/",
          "height": 35
        },
        "id": "3SD6tF5nDFik",
        "outputId": "fed9afee-1d7f-49cd-d16d-d3022d73ecb7"
      },
      "id": "3SD6tF5nDFik",
      "execution_count": 157,
      "outputs": [
        {
          "output_type": "execute_result",
          "data": {
            "text/plain": [
              "'oh i gotta get on that internet. i`m late on everything.'"
            ],
            "application/vnd.google.colaboratory.intrinsic+json": {
              "type": "string"
            }
          },
          "metadata": {},
          "execution_count": 157
        }
      ]
    },
    {
      "cell_type": "code",
      "execution_count": 152,
      "id": "e1255930",
      "metadata": {
        "id": "e1255930"
      },
      "outputs": [],
      "source": [
        "quote_2 = \"What’s the deal with lampshades? I mean if it’s a lamp, why do you want shade?\""
      ]
    },
    {
      "cell_type": "code",
      "execution_count": 153,
      "id": "346eb19c",
      "metadata": {
        "id": "346eb19c"
      },
      "outputs": [],
      "source": [
        "quote_2 = quote_2.replace(\"?\", \"???\").replace(\"’\", \"'\").replace(\",\", \"...\").lower()"
      ]
    },
    {
      "cell_type": "code",
      "source": [
        "quote_2"
      ],
      "metadata": {
        "colab": {
          "base_uri": "https://localhost:8080/",
          "height": 35
        },
        "id": "wUi7qd0fChY_",
        "outputId": "26e93f3a-838a-4712-f110-f672f5d5a375"
      },
      "id": "wUi7qd0fChY_",
      "execution_count": 154,
      "outputs": [
        {
          "output_type": "execute_result",
          "data": {
            "text/plain": [
              "\"what's the deal with lampshades??? i mean if it's a lamp... why do you want shade???\""
            ],
            "application/vnd.google.colaboratory.intrinsic+json": {
              "type": "string"
            }
          },
          "metadata": {},
          "execution_count": 154
        }
      ]
    },
    {
      "cell_type": "markdown",
      "source": [
        "Elaboration: I added two code blocks that prints out quote 1 and quote 2. I then replaced all the quotes that were initialized in the beginning into different punctions."
      ],
      "metadata": {
        "id": "g85uWvj8EhsL"
      },
      "id": "g85uWvj8EhsL"
    }
  ],
  "metadata": {
    "kernelspec": {
      "display_name": "anaconda-2024.02-py310",
      "language": "python",
      "name": "conda-env-anaconda-2024.02-py310-py"
    },
    "language_info": {
      "codemirror_mode": {
        "name": "ipython",
        "version": 3
      },
      "file_extension": ".py",
      "mimetype": "text/x-python",
      "name": "python",
      "nbconvert_exporter": "python",
      "pygments_lexer": "ipython3",
      "version": "3.10.4"
    },
    "colab": {
      "provenance": []
    }
  },
  "nbformat": 4,
  "nbformat_minor": 5
}